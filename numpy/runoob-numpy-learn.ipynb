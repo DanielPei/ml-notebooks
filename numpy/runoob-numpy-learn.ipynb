{
 "cells": [
  {
   "cell_type": "markdown",
   "metadata": {},
   "source": [
    "# This is just a notebook for numpy learn based on runoob.\n",
    "\n",
    "NumPy 应用\n",
    "NumPy 通常与 SciPy（Scientific Python）和 Matplotlib（绘图库）一起使用， 这种组合广泛用于替代 MatLab，是一个强大的科学计算环境，有助于我们通过 Python 学习数据科学或者机器学习。\n",
    "\n",
    "SciPy 是一个开源的 Python 算法库和数学工具包。\n",
    "\n",
    "SciPy 包含的模块有最优化、线性代数、积分、插值、特殊函数、快速傅里叶变换、信号处理和图像处理、常微分方程求解和其他科学与工程中常用的计算。\n",
    "\n",
    "Matplotlib 是 Python 编程语言及其数值数学扩展包 NumPy 的可视化操作界面。它为利用通用的图形用户界面工具包，如 Tkinter, wxPython, Qt 或 GTK+ 向应用程序嵌入式绘图提供了应用程序接口（API）。\n",
    "\n"
   ]
  },
  {
   "cell_type": "code",
   "execution_count": 29,
   "metadata": {},
   "outputs": [],
   "source": [
    "# -*- coding:utf-8 -*-\n",
    "\n",
    "import numpy as np"
   ]
  },
  {
   "cell_type": "code",
   "execution_count": 30,
   "metadata": {},
   "outputs": [
    {
     "name": "stdout",
     "output_type": "stream",
     "text": [
      "[1 2 3]\n",
      "===============\n",
      "[[1 2]\n",
      " [3 4]]\n",
      "===============\n",
      "[[1 2 3 4 5]]\n",
      "===============\n",
      "[1.+0.j 2.+0.j 3.+0.j]\n"
     ]
    }
   ],
   "source": [
    "# ndarray : N-dims array hold same data-type.\n",
    "# numpy.array(object, dtype = None, copy = True, order = None, subok = False, ndmin = 0)\n",
    "\n",
    "data = np.array([1,2,3])\n",
    "print(data)\n",
    "\n",
    "print(\"===============\")\n",
    "data = np.array([[1,2],[3,4]])\n",
    "print(data)\n",
    "\n",
    "print(\"===============\")\n",
    "data = np.array([1,2,3,4,5], ndmin = 2)\n",
    "print(data)\n",
    "\n",
    "print(\"===============\")\n",
    "data = np.array([1,  2,  3], dtype = complex)  \n",
    "print(data)"
   ]
  },
  {
   "cell_type": "markdown",
   "metadata": {},
   "source": [
    "# dtype\n",
    "数据类型对象 (dtype)\n",
    "数据类型对象是用来描述与数组对应的内存区域如何使用，这依赖如下几个方面：\n",
    "\n",
    "数据的类型（整数，浮点数或者 Python 对象）\n",
    "数据的大小（例如， 整数使用多少个字节存储）\n",
    "数据的字节顺序（小端法或大端法）\n",
    "在结构化类型的情况下，字段的名称、每个字段的数据类型和每个字段所取的内存块的部分\n",
    "如果数据类型是子数组，它的形状和数据类型\n",
    "字节顺序是通过对数据类型预先设定\"<\"或\">\"来决定的。\"<\"意味着小端法(最小值存储在最小的地址，即低位组放在最前面)。\">\"意味着大端法(最重要的字节存储在最小的地址，即高位组放在最前面)。\n",
    "\n",
    "dtype 对象是使用以下语法构造的：\n",
    "\n",
    "numpy.dtype(object, align, copy)\n",
    "object - 要转换为的数据类型对象\n",
    "align - 如果为 true，填充字段使其类似 C 的结构体。\n",
    "copy - 复制 dtype 对象 ，如果为 false，则是对内置数据类型对象的引用\n"
   ]
  },
  {
   "cell_type": "code",
   "execution_count": 50,
   "metadata": {},
   "outputs": [
    {
     "name": "stdout",
     "output_type": "stream",
     "text": [
      "[(b'dan', 28,  1.) (b'jessica', 18, 75.)]\n",
      "[b'dan' b'jessica']\n",
      "2\n"
     ]
    }
   ],
   "source": [
    "import numpy as np\n",
    "\n",
    "student_dtype = np.dtype([(\"name\",\"S20\"),(\"age\",\"i1\"),(\"marks\", \"f4\")])\n",
    "data = np.array([('dan',28,1),(\"jessica\",18,75)], dtype=student_dtype)\n",
    "\n",
    "print(data)\n",
    "\n",
    "print(data['name'])\n",
    "\n",
    "print(len(data['name']))"
   ]
  },
  {
   "cell_type": "code",
   "execution_count": 32,
   "metadata": {},
   "outputs": [],
   "source": [
    "# # NumPy 数组属性\n",
    "# 本章节我们将来了解 NumPy 数组的一些基本属性。\n",
    "\n",
    "# NumPy 数组的维数称为秩（rank），一维数组的秩为 1，二维数组的秩为 2，以此类推。\n",
    "\n",
    "# 在 NumPy中，每一个线性的数组称为是一个轴（axis），也就是维度（dimensions）。比如说，二维数组相当于是两个一维数组，其中第一个一维数组中每个元素又是一个一维数组。所以一维数组就是 NumPy 中的轴（axis），第一个轴相当于是底层数组，第二个轴是底层数组里的数组。而轴的数量——秩，就是数组的维数。\n",
    "\n",
    "# 很多时候可以声明 axis。axis=0，表示沿着第 0 轴进行操作，即对每一列进行操作；axis=1，表示沿着第1轴进行操作，即对每一行进行操作。\n",
    "\n",
    "# NumPy 的数组中比较重要 ndarray 对象属性有：\n",
    "\n",
    "# 属性\t说明\n",
    "# ndarray.ndim\t秩，即轴的数量或维度的数量\n",
    "# ndarray.shape\t数组的维度，对于矩阵，n 行 m 列\n",
    "# ndarray.size\t数组元素的总个数，相当于 .shape 中 n*m 的值\n",
    "# ndarray.dtype\tndarray 对象的元素类型\n",
    "# ndarray.itemsize\tndarray 对象中每个元素的大小，以字节为单位\n",
    "# ndarray.flags\tndarray 对象的内存信息\n",
    "# ndarray.real\tndarray元素的实部\n",
    "# ndarray.imag\tndarray 元素的虚部\n",
    "# ndarray.data\t包含实际数组元素的缓冲区，由于一般通过数组的索引获取元素，所以通常不需要使用这个属性。"
   ]
  },
  {
   "cell_type": "code",
   "execution_count": 33,
   "metadata": {},
   "outputs": [
    {
     "name": "stdout",
     "output_type": "stream",
     "text": [
      "[ 0  1  2  3  4  5  6  7  8  9 10 11 12 13 14 15 16 17 18 19 20 21 22 23]\n",
      "1\n",
      "[[[ 0  1  2]\n",
      "  [ 3  4  5]\n",
      "  [ 6  7  8]\n",
      "  [ 9 10 11]]\n",
      "\n",
      " [[12 13 14]\n",
      "  [15 16 17]\n",
      "  [18 19 20]\n",
      "  [21 22 23]]]\n",
      "3\n"
     ]
    }
   ],
   "source": [
    "import numpy as np \n",
    " \n",
    "a = np.arange(24)  \n",
    "print(a)\n",
    "print (a.ndim)             # a 现只有一个维度\n",
    "# 现在调整其大小\n",
    "b = a.reshape(2,4,3)  # b 现在拥有三个维度\n",
    "print(b)\n",
    "print (b.ndim)"
   ]
  },
  {
   "cell_type": "code",
   "execution_count": 34,
   "metadata": {},
   "outputs": [
    {
     "name": "stdout",
     "output_type": "stream",
     "text": [
      " a = [[1 2 3]\n",
      " [4 5 6]]\n",
      "a.ndim : 2 \n",
      "a.shape :\n",
      "(2, 3)\n",
      "a.shape :\n",
      "(3, 2)\n",
      "a = [[1 2]\n",
      " [3 4]\n",
      " [5 6]]\n",
      "a = [[1 2]\n",
      " [3 4]\n",
      " [5 6]]\n",
      "b = [[1 2 3]\n",
      " [4 5 6]]\n"
     ]
    }
   ],
   "source": [
    "a = np.array([[1,2,3],[4,5,6]])\n",
    "\n",
    "print(\" a = %s\" % a)\n",
    "\n",
    "print(\"a.ndim : %s \" % a.ndim)\n",
    "print(\"a.shape :\")\n",
    "print(a.shape)\n",
    "\n",
    "# reshape array by shape property\n",
    "a.shape = (3,2)\n",
    "print(\"a.shape :\")\n",
    "print(a.shape)\n",
    "print(\"a = %s\" % a)\n",
    "\n",
    "# reshape array by reshap method\n",
    "b = a.reshape(2,3)\n",
    "print(\"a = %s\" % a)\n",
    "print(\"b = %s\" % b)"
   ]
  },
  {
   "cell_type": "code",
   "execution_count": 35,
   "metadata": {},
   "outputs": [
    {
     "name": "stdout",
     "output_type": "stream",
     "text": [
      "1\n",
      "8\n"
     ]
    }
   ],
   "source": [
    "# ndarray.itemsize 以字节的形式返回数组中每一个元素的大小。\n",
    "\n",
    "\n",
    "\n",
    "# 数组的 dtype 为 int8（一个字节）  \n",
    "x = np.array([1,2,3,4,5], dtype = np.int8)  \n",
    "print (x.itemsize)\n",
    " \n",
    "# 数组的 dtype 现在为 float64（八个字节） \n",
    "y = np.array([1,2,3,4,5], dtype = np.float64)  \n",
    "print (y.itemsize)"
   ]
  },
  {
   "cell_type": "code",
   "execution_count": 51,
   "metadata": {},
   "outputs": [
    {
     "name": "stdout",
     "output_type": "stream",
     "text": [
      "[[(b'\\x00\\x00\\x00\\x00\\x00\\x00\\x00@\\x00\\x00\\x00\\x00\\x00\\x00\\x00@\\n\\x00\\xfb\\x19',   1, -4.65661287e-10)\n",
      "  (b'2\\xfb\\x19\\x01\\x00\\x00\\x00\\xe82\\xfb\\x19\\x01\\x00\\x00\\x00\\x18<\\xfb\\x19\\x01',   0,  1.26953125e-02)\n",
      "  (b'\\xfb\\x19\\x01\\x00\\x00\\x00\\xc0<\\xfb\\x19\\x01\\x00\\x00\\x00\\xf8<\\xfb\\x19\\x01',   0, -9.64144623e+35)]\n",
      " [(b'\\x19\\x01\\x00\\x00\\x00\\x185\\xfb\\x19\\x01\\x00\\x00\\x00(8\\xfb\\x19\\x01',   0,  2.59775052e-23)\n",
      "  (b'\\x01\\x00\\x00\\x00h=\\xfb\\x19\\x01\\x00\\x00\\x00\\x107\\xfb\\x19\\x01', -96,  2.82819165e-38)\n",
      "  (b'\\x00\\x00\\x00\\x10>\\xfb\\x19\\x01\\x00\\x00\\x00H>\\xfb\\x19\\x01\\x00\\x00\\x00\\x80',  62,  1.01155532e-40)]]\n",
      "b'\\x00\\x00\\x00\\x00\\x00\\x00\\x00@\\x00\\x00\\x00\\x00\\x00\\x00\\x00@\\n\\x00\\xfb\\x19'\n",
      "<class 'numpy.bytes_'>\n"
     ]
    }
   ],
   "source": [
    "# ndarray 数组除了可以使用底层 ndarray 构造器来创建外，也可以通过以下几种方式来创建。\n",
    "import pickle\n",
    "\n",
    "d = np.empty((2,3), dtype = student_dtype)\n",
    "print(d)\n",
    "print(d[0][0][\"name\"])\n",
    "print(type(d[0][0][\"name\"]))\n",
    "# print(pickle.loads(d[0][0][\"name\"]))"
   ]
  },
  {
   "cell_type": "code",
   "execution_count": 66,
   "metadata": {},
   "outputs": [
    {
     "name": "stdout",
     "output_type": "stream",
     "text": [
      "[[0. 0. 0.]\n",
      " [0. 0. 0.]]\n",
      "[[0 0 0]\n",
      " [0 0 0]]\n",
      "<memory at 0x11abdd630>\n",
      "int8\n",
      "2\n",
      "1\n",
      "[[0 0 0]\n",
      " [0 0 0]]\n",
      "[[0 0 0]\n",
      " [0 0 0]]\n",
      "  C_CONTIGUOUS : True\n",
      "  F_CONTIGUOUS : False\n",
      "  OWNDATA : True\n",
      "  WRITEABLE : True\n",
      "  ALIGNED : True\n",
      "  WRITEBACKIFCOPY : False\n",
      "  UPDATEIFCOPY : False\n"
     ]
    }
   ],
   "source": [
    "import numpy as np\n",
    "a = np.zeros((2,3))\n",
    "print(a)\n",
    "\n",
    "a = np.zeros((2,3),dtype = \"i1\")\n",
    "print(a)\n",
    "\n",
    "print(a.data)\n",
    "print(a.dtype)\n",
    "print(a.ndim)\n",
    "print(a.itemsize)\n",
    "print(a.real)\n",
    "print(a.imag)\n",
    "print(a.flags)"
   ]
  },
  {
   "cell_type": "code",
   "execution_count": 67,
   "metadata": {},
   "outputs": [
    {
     "name": "stdout",
     "output_type": "stream",
     "text": [
      "[[(0, 0) (0, 0)]\n",
      " [(0, 0) (0, 0)]]\n"
     ]
    }
   ],
   "source": [
    "z = np.zeros((2,2), dtype = [('x', 'i4'), ('y', 'i4')])  \n",
    "print(z)"
   ]
  },
  {
   "cell_type": "code",
   "execution_count": 69,
   "metadata": {},
   "outputs": [
    {
     "name": "stdout",
     "output_type": "stream",
     "text": [
      "[1. 1. 1. 1. 1.]\n",
      "[[1 1 1]\n",
      " [1 1 1]]\n"
     ]
    }
   ],
   "source": [
    "one = np.ones(5)\n",
    "print(one)\n",
    "\n",
    "one = np.ones((2,3), dtype= np.int)\n",
    "print(one)"
   ]
  },
  {
   "cell_type": "code",
   "execution_count": 88,
   "metadata": {},
   "outputs": [
    {
     "name": "stdout",
     "output_type": "stream",
     "text": [
      "[1 3 5]\n",
      "[[1. 3. 5.]\n",
      " [2. 4. 6.]]\n",
      "b'H'\n",
      "b'Hello world'\n",
      "[b'H' b'e' b'l' b'l' b'o' b' ' b'w' b'o' b'r' b'l' b'd']\n",
      "[b'Hello world']\n",
      "[b'H' b'e' b'l' b'l' b'o' b' ' b'w' b'o' b'r' b'l']\n",
      "[b'He' b'll' b'o ' b'wo' b'rl']\n",
      "[b'e' b'l' b'l' b'o' b' ' b'w' b'o' b'r' b'l' b'd']\n"
     ]
    }
   ],
   "source": [
    "a = (1,3,5)\n",
    "print(np.asarray(a, dtype = np.int))\n",
    "\n",
    "b = [(1,3,5),(2,4,6)]\n",
    "print(np.asarray(b, dtype = np.float))\n",
    "\n",
    "s = \"Hello world\"\n",
    "print(np.asarray(s, dtype = \"S1\"))\n",
    "print(np.asarray(s, dtype = 'S20'))\n",
    "\n",
    "s = b\"Hello world\"\n",
    "cur_s = np.frombuffer(s, dtype = \"S1\")\n",
    "print(cur_s)\n",
    "\n",
    "# AttributeError: 'str' object has no attribute '__buffer__'\n",
    "# As python3 hold unicode as default type for str, we need to append char 'b' before str object.\n",
    "# s = \"Hello world\"\n",
    "# cur_s = np.frombuffer(s, dtype = \"S1\")\n",
    "# print(cur_s)\n",
    "\n",
    "# ValueError: buffer size must be a multiple of element size\n",
    "# cur_s = np.frombuffer(s, dtype = \"S10\")\n",
    "cur_s = np.frombuffer(s, dtype = \"S11\")\n",
    "print(cur_s)\n",
    "\n",
    "cur_s = np.frombuffer(s, dtype = \"S1\", count = 10)\n",
    "print(cur_s)\n",
    "\n",
    "cur_s = np.frombuffer(s, dtype = \"S2\", count = 5)\n",
    "print(cur_s)\n",
    "\n",
    "\n",
    "cur_s = np.frombuffer(s,dtype = \"S1\",count = 10, offset = 1)\n",
    "print(cur_s)"
   ]
  },
  {
   "cell_type": "code",
   "execution_count": 91,
   "metadata": {},
   "outputs": [
    {
     "name": "stdout",
     "output_type": "stream",
     "text": [
      "[0 1 2 3 4 5 6 7 8 9]\n",
      "[0 1 2 3 4 5 6 7 8 9]\n",
      "[]\n",
      "[0 1 2 3 4 5 6 7 8 9]\n"
     ]
    }
   ],
   "source": [
    "import numpy as np\n",
    "\n",
    "a = range(10)\n",
    "iter_handler = iter(a)\n",
    "\n",
    "print(np.fromiter(iter_handler, dtype = np.int))\n",
    "print(np.fromiter(a, dtype = np.int))\n",
    "\n",
    "print(np.fromiter(iter_handler, dtype = np.int))\n",
    "print(np.fromiter(a, dtype = np.int))"
   ]
  },
  {
   "cell_type": "code",
   "execution_count": 2,
   "metadata": {},
   "outputs": [
    {
     "name": "stdout",
     "output_type": "stream",
     "text": [
      "[0 1 2 3 4 5 6 7 8 9]\n",
      "[10 12 14 16 18]\n",
      "[ 0  3  6  9 12]\n",
      "[0 3 6 9]\n"
     ]
    }
   ],
   "source": [
    "# numpy.arange\n",
    "# numpy 包中的使用 arange 函数创建数值范围并返回 ndarray 对象，函数格式如下：\n",
    "\n",
    "# numpy.arange(start, stop, step, dtype)\n",
    "# 根据 start 与 stop 指定的范围以及 step 设定的步长，生成一个 ndarray。\n",
    "\n",
    "# 参数说明：\n",
    "\n",
    "# 参数\t描述\n",
    "# start\t起始值，默认为0\n",
    "# stop\t终止值（不包含）\n",
    "# step\t步长，默认为1\n",
    "# dtype\t返回ndarray的数据类型，如果没有提供，则会使用输入数据的类型。\n",
    "import numpy as np\n",
    "\n",
    "a = np.arange(10)\n",
    "print(a)\n",
    "\n",
    "a = np.arange(10,20,2)\n",
    "print(a)\n",
    "\n",
    "a = np.arange(0, 15, 3)\n",
    "print(a)\n",
    "\n",
    "a = np.arange(0, 11, 3)\n",
    "print(a)"
   ]
  },
  {
   "cell_type": "code",
   "execution_count": 110,
   "metadata": {},
   "outputs": [
    {
     "name": "stdout",
     "output_type": "stream",
     "text": [
      "[1.  1.1 1.2 1.3 1.4 1.5 1.6 1.7 1.8 1.9 2. ]\n",
      "\n",
      "\n",
      "[1.  1.1 1.2 1.3 1.4 1.5 1.6 1.7 1.8 1.9]\n",
      "[1. 1. 1. 1. 1. 1. 1. 1. 1. 1.]\n",
      "[[1.]\n",
      " [1.]\n",
      " [1.]\n",
      " [1.]\n",
      " [1.]\n",
      " [1.]\n",
      " [1.]\n",
      " [1.]\n",
      " [1.]\n",
      " [1.]]\n"
     ]
    }
   ],
   "source": [
    "# numpy.linspace\n",
    "# numpy.linspace 函数用于创建一个一维数组，数组是一个等差数列构成的，格式如下：\n",
    "\n",
    "# np.linspace(start, stop, num=50, endpoint=True, retstep=False, dtype=None)\n",
    "# !!! 包含stop值\n",
    "a = np.linspace(1, 2, num=11)\n",
    "print(a)\n",
    "print(\"\\n\")\n",
    "\n",
    "# 不输出 stop 值\n",
    "a = np.linspace(1,2, num= 10, endpoint=False)\n",
    "print(a)\n",
    "\n",
    "# 输出长度为10，首末元素都是1的等差数列\n",
    "print(np.linspace(1,1,10))\n",
    "\n",
    "print(np.linspace(1,1,10).reshape(10,1))"
   ]
  },
  {
   "cell_type": "code",
   "execution_count": 115,
   "metadata": {},
   "outputs": [
    {
     "name": "stdout",
     "output_type": "stream",
     "text": [
      "[1.00000000e+01 3.16227766e+05 1.00000000e+10]\n",
      "[ 2.  4.  8. 16.]\n"
     ]
    }
   ],
   "source": [
    "# numpy.logspace\n",
    "# numpy.logspace 函数用于创建一个于等比数列。格式如下：\n",
    "# numpy.logspace 函数用于创建一个于等比数列。格式如下：\n",
    "\n",
    "# np.logspace(start, stop, num=50, endpoint=True, base=10.0, dtype=None)\n",
    "# base 参数意思是取对数的时候 log 的下标。\n",
    "\n",
    "# 参数\t描述\n",
    "# start\t序列的起始值为：base ** start\n",
    "# stop\t序列的终止值为：base ** stop。如果endpoint为true，该值包含于数列中\n",
    "# num\t要生成的等步长的样本数量，默认为50\n",
    "# endpoint\t该值为 ture 时，数列中中包含stop值，反之不包含，默认是True。\n",
    "# base\t对数 log 的底数。\n",
    "# dtype\tndarray 的数据类型\n",
    "\n",
    "a = np.logspace(1,10, num = 3)\n",
    "print(a)\n",
    "\n",
    "a = np.logspace(1,4, num = 4, base = 2)\n",
    "print(a)"
   ]
  },
  {
   "cell_type": "code",
   "execution_count": 133,
   "metadata": {},
   "outputs": [
    {
     "name": "stdout",
     "output_type": "stream",
     "text": [
      "[0 1 2 3 4 5 6 7 8 9]\n",
      "[2 4 6]\n",
      "[2 3 4 5 6]\n",
      "[2 4 6]\n"
     ]
    }
   ],
   "source": [
    "# NumPy 切片和索引\n",
    "# ndarray对象的内容可以通过索引或切片来访问和修改，与 Python 中 list 的切片操作一样。\n",
    "\n",
    "# ndarray 数组可以基于 0 - n 的下标进行索引，切片对象可以通过内置的 slice 函数，并设置 start, stop 及 step 参数进行，从原数组中切割出一个新数组。\n",
    "a = np.arange(10)\n",
    "print(a)\n",
    "\n",
    "s = slice(2,7,2)  # 从索引 2 开始到索引 7 停止，间隔为2\n",
    "\n",
    "print(a[s])\n",
    "\n",
    "# 冒号 : 的解释：\n",
    "# - 如果只放置一个参数，如 [2]，将返回与该索引相对应的单个元素。\n",
    "# - 如果为 [2:]，表示从该索引开始以后的所有项都将被提取。\n",
    "# - 如果使用了两个参数，如 [2:7]，那么则提取两个索引(不包括停止索引)之间的项。\n",
    "print(a[2:7])\n",
    "print(a[2:7:2])"
   ]
  },
  {
   "cell_type": "code",
   "execution_count": 120,
   "metadata": {},
   "outputs": [
    {
     "name": "stdout",
     "output_type": "stream",
     "text": [
      "[2 4 5]\n",
      "[3 4 5]\n",
      "[[2 3]\n",
      " [4 5]\n",
      " [5 6]]\n"
     ]
    }
   ],
   "source": [
    "import numpy as np\n",
    " \n",
    "#     切片还可以包括省略号 …，来使选择元组的长度与数组的维度相同。 如果在行位置使用省略号，它将返回包含行中元素的 ndarray。\n",
    "\n",
    "a = np.array([[1,2,3],[3,4,5],[4,5,6]])  \n",
    "print (a[...,1])   # 第2列元素\n",
    "print (a[1,...])   # 第2行元素\n",
    "print (a[...,1:])  # 第2列及剩下的所有元素"
   ]
  },
  {
   "cell_type": "code",
   "execution_count": 123,
   "metadata": {},
   "outputs": [
    {
     "name": "stdout",
     "output_type": "stream",
     "text": [
      "[[1 2]\n",
      " [3 4]\n",
      " [5 6]]\n",
      "[1 4 5]\n"
     ]
    }
   ],
   "source": [
    "# NumPy 比一般的 Python 序列提供更多的索引方式。除了之前看到的用整数和切片的索引外，数组可以由整数数组索引、布尔索引及花式索引。\n",
    "\n",
    "# 整数数组索引\n",
    "# 以下实例获取数组中(0,0)，(1,1)和(2,0)位置处的元素。\n",
    "\n",
    "import numpy as np \n",
    " \n",
    "x = np.array([[1,  2],  [3,  4],  [5,  6]]) \n",
    "print(x)\n",
    "y = x[[0,1,2],  [0,1,0]]  \n",
    "print (y)"
   ]
  },
  {
   "cell_type": "code",
   "execution_count": 125,
   "metadata": {},
   "outputs": [
    {
     "name": "stdout",
     "output_type": "stream",
     "text": [
      "我们的数组是：\n",
      "[[ 0  1  2]\n",
      " [ 3  4  5]\n",
      " [ 6  7  8]\n",
      " [ 9 10 11]]\n",
      "\n",
      "\n",
      "这个数组的四个角元素是：\n",
      "[[ 0  2]\n",
      " [ 9 11]]\n",
      "[ 0  2  9 11]\n"
     ]
    }
   ],
   "source": [
    "import numpy as np \n",
    " \n",
    "x = np.array([[  0,  1,  2],[  3,  4,  5],[  6,  7,  8],[  9,  10,  11]])  \n",
    "print ('我们的数组是：' )\n",
    "print (x)\n",
    "print ('\\n')\n",
    "rows = np.array([[0,0],[3,3]]) \n",
    "cols = np.array([[0,2],[0,2]]) \n",
    "y = x[rows,cols]  \n",
    "print  ('这个数组的四个角元素是：')\n",
    "print (y)\n",
    "\n",
    "print(x[[0,0,3,3],[0,2,0,2]])"
   ]
  },
  {
   "cell_type": "code",
   "execution_count": 132,
   "metadata": {},
   "outputs": [
    {
     "name": "stdout",
     "output_type": "stream",
     "text": [
      "[[5 6]\n",
      " [8 9]]\n",
      "[[5 6]\n",
      " [8 9]]\n",
      "[[2 3]\n",
      " [5 6]\n",
      " [8 9]]\n",
      "\n",
      "\n",
      "[[5]]\n"
     ]
    }
   ],
   "source": [
    "import numpy as np\n",
    " \n",
    "a = np.array([[1,2,3], [4,5,6],[7,8,9]])\n",
    "b = a[1:3, 1:3]\n",
    "c = a[1:3,[1,2]]\n",
    "d = a[...,1:]\n",
    "print(b)\n",
    "print(c)\n",
    "print(d)\n",
    "print(\"\\n\")\n",
    "print(a[1:2, 1:2])"
   ]
  },
  {
   "cell_type": "code",
   "execution_count": 127,
   "metadata": {},
   "outputs": [
    {
     "name": "stdout",
     "output_type": "stream",
     "text": [
      "我们的数组是：\n",
      "[[ 0  1  2]\n",
      " [ 3  4  5]\n",
      " [ 6  7  8]\n",
      " [ 9 10 11]]\n",
      "\n",
      "\n",
      "大于 5 的元素是：\n",
      "[ 6  7  8  9 10 11]\n"
     ]
    }
   ],
   "source": [
    "import numpy as np \n",
    " \n",
    "x = np.array([[  0,  1,  2],[  3,  4,  5],[  6,  7,  8],[  9,  10,  11]])  \n",
    "print ('我们的数组是：')\n",
    "print (x)\n",
    "print ('\\n')\n",
    "# 现在我们会打印出大于 5 的元素  \n",
    "print  ('大于 5 的元素是：')\n",
    "print (x[x >  5])"
   ]
  },
  {
   "cell_type": "code",
   "execution_count": 128,
   "metadata": {},
   "outputs": [
    {
     "name": "stdout",
     "output_type": "stream",
     "text": [
      "[1. 2. 3. 4. 5.]\n"
     ]
    }
   ],
   "source": [
    "import numpy as np \n",
    " \n",
    "a = np.array([np.nan,  1,2,np.nan,3,4,5])  \n",
    "print (a[~np.isnan(a)])"
   ]
  },
  {
   "cell_type": "code",
   "execution_count": 129,
   "metadata": {},
   "outputs": [
    {
     "name": "stdout",
     "output_type": "stream",
     "text": [
      "[2. +6.j 3.5+5.j]\n"
     ]
    }
   ],
   "source": [
    "import numpy as np \n",
    " \n",
    "a = np.array([1,  2+6j,  5,  3.5+5j])  \n",
    "print (a[np.iscomplex(a)])"
   ]
  },
  {
   "cell_type": "code",
   "execution_count": 130,
   "metadata": {},
   "outputs": [
    {
     "name": "stdout",
     "output_type": "stream",
     "text": [
      "[ 0  2  4  6  8 10]\n"
     ]
    }
   ],
   "source": [
    "x = np.array([[  0,  1,  2],[  3,  4,  5],[  6,  7,  8],[  9,  10,  11]])  \n",
    "def is_even(x):\n",
    "    return x%2 == 0\n",
    "print(x[is_even(x)])"
   ]
  },
  {
   "cell_type": "code",
   "execution_count": 139,
   "metadata": {},
   "outputs": [
    {
     "name": "stdout",
     "output_type": "stream",
     "text": [
      "[[ 0  1  2  3]\n",
      " [ 4  5  6  7]\n",
      " [ 8  9 10 11]\n",
      " [12 13 14 15]\n",
      " [16 17 18 19]\n",
      " [20 21 22 23]\n",
      " [24 25 26 27]\n",
      " [28 29 30 31]]\n",
      "\n",
      "\n",
      "[[16 17 18 19]\n",
      " [ 8  9 10 11]\n",
      " [ 4  5  6  7]\n",
      " [28 29 30 31]]\n",
      "[16 17 18 19]\n"
     ]
    }
   ],
   "source": [
    "# 花式索引\n",
    "# 花式索引指的是利用整数数组进行索引。\n",
    "\n",
    "# 花式索引根据索引数组的值作为目标数组的某个轴的下标来取值。\n",
    "# 对于使用一维整型数组作为索引，如果目标是一维数组，那么索引的结果就是对应位置的元素；如果目标是二维数组，那么就是对应下标的行。\n",
    "\n",
    "# 花式索引跟切片不一样，它总是将数据复制到新数组中。\n",
    "import numpy as np\n",
    "\n",
    "a = np.arange(32).reshape(8,4)\n",
    "print(a)\n",
    "\n",
    "x = a[[4,2,1,7]]\n",
    "print(\"\\n\")\n",
    "print(x)\n",
    "print(a[4])"
   ]
  },
  {
   "cell_type": "code",
   "execution_count": 1,
   "metadata": {},
   "outputs": [
    {
     "name": "stdout",
     "output_type": "stream",
     "text": [
      "[[ 4  7  5  6]\n",
      " [20 23 21 22]\n",
      " [28 31 29 30]\n",
      " [ 8 11  9 10]]\n"
     ]
    }
   ],
   "source": [
    "import numpy as np \n",
    " \n",
    "x=np.arange(32).reshape((8,4))\n",
    "print (x[np.ix_([1,5,7,2],[0,3,1,2])])"
   ]
  },
  {
   "cell_type": "code",
   "execution_count": 7,
   "metadata": {},
   "outputs": [
    {
     "name": "stdout",
     "output_type": "stream",
     "text": [
      "[[0 1 2]\n",
      " [3 4 5]]\n",
      "0,1,2,3,4,5,\n",
      "\n",
      "[[0 3]\n",
      " [1 4]\n",
      " [2 5]]\n",
      "0,1,2,3,4,5,\n",
      "\n",
      "0,3,1,4,2,5,\n",
      "\n",
      "0,3,1,4,2,5,\n",
      "\n"
     ]
    }
   ],
   "source": [
    "# NumPy 迭代器对象 numpy.nditer 提供了一种灵活访问一个或者多个数组元素的方式。\n",
    "# 迭代器最基本的任务的可以完成对数组元素的访问。\n",
    "# 接下来我们使用 arange() 函数创建一个 2X3 数组，并使用 nditer 对它进行迭代。\n",
    "import numpy as np\n",
    "\n",
    "a = np.arange(6).reshape(2,3)\n",
    "print(a)\n",
    "\n",
    "for item in np.nditer(a):\n",
    "    print(item, end = \",\")\n",
    "print(\"\\n\")\n",
    "\n",
    "print(a.T)\n",
    "\n",
    "for item in np.nditer(a.T):\n",
    "    print(item, end = \",\")\n",
    "print(\"\\n\")\n",
    "    \n",
    "\n",
    "for item in np.nditer(a, order = \"F\"):\n",
    "    print(item, end = \",\")\n",
    "print(\"\\n\")\n",
    "\n",
    "for item in np.nditer(a.T, order = \"C\"):\n",
    "    print(item, end = \",\")\n",
    "print(\"\\n\")"
   ]
  },
  {
   "cell_type": "code",
   "execution_count": null,
   "metadata": {},
   "outputs": [],
   "source": [
    ""
   ]
  }
 ],
 "metadata": {
  "kernelspec": {
   "display_name": "Python 3",
   "language": "python",
   "name": "python3"
  },
  "language_info": {
   "codemirror_mode": {
    "name": "ipython",
    "version": 3.0
   },
   "file_extension": ".py",
   "mimetype": "text/x-python",
   "name": "python",
   "nbconvert_exporter": "python",
   "pygments_lexer": "ipython3",
   "version": "3.7.0"
  }
 },
 "nbformat": 4,
 "nbformat_minor": 0
}
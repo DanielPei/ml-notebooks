{
 "cells": [
  {
   "cell_type": "markdown",
   "metadata": {},
   "source": [
    "# 简介\n",
    "本部分主要记录学些过程中的基本概念、整体理解以及学习计划中的 TODO-LIST\n",
    "\n",
    "**TARGET**：讲一个故事！\n",
    "\n",
    "主要参考 ： \n",
    "- https://developers.google.cn/machine-learning/crash-course/framing/ml-terminology\n",
    "- 《机器学习实战》\n",
    "\n",
    "## TODO-List\n",
    "- 有哪些： 各类基础的机器学习模型。（适用场景、基本原理、实现方式及Demo）\n",
    "- 如何选择： 各类基础的机器学习模型的优缺点以及如何优化。\n",
    "- 实际场景： 结合一些具体的实际引用场景，探索对比现阶段常用的模型。\n",
    "\n",
    "## Done\n",
    "- KNN\n",
    "- 决策树\n",
    "- 朴素贝叶斯\n",
    "- 逻辑回归\n",
    "\n",
    "#Brief Summary\n",
    "\n",
    "特征 ／ 组合特征\n",
    "\n",
    "标签\n",
    "\n",
    "样本\n",
    "\n",
    "训练集\n",
    "\n",
    "测试集\n",
    "\n",
    "算法\n",
    "\n",
    "模型\n",
    "\n",
    "损失函数 \n",
    "\n",
    "经验损失\n",
    "\n",
    "归一\n",
    "\n",
    "回归与分类\n",
    "\n",
    "监督学习／无监督学习／半监督学习\n",
    "\n",
    "过拟合／欠拟合风险\n"
   ]
  },
  {
   "cell_type": "raw",
   "metadata": {},
   "source": []
  }
 ],
 "metadata": {
  "kernelspec": {
   "display_name": "Python 3",
   "language": "python",
   "name": "python3"
  },
  "language_info": {
   "codemirror_mode": {
    "name": "ipython",
    "version": 3
   },
   "file_extension": ".py",
   "mimetype": "text/x-python",
   "name": "python",
   "nbconvert_exporter": "python",
   "pygments_lexer": "ipython3",
   "version": "3.7.0"
  }
 },
 "nbformat": 4,
 "nbformat_minor": 2
}
